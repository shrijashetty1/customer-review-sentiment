{
 "cells": [
  {
   "cell_type": "markdown",
   "metadata": {},
   "source": [
    "## data_cleaning.ipynb"
   ]
  },
  {
   "cell_type": "markdown",
   "metadata": {},
   "source": [
    "Performs data cleaning for restaurant reviews collected via web scraping. It includes extracting structured information, handling missing values, checking for duplicates, and preparing the data for further analysis.\n"
   ]
  },
  {
   "cell_type": "code",
   "execution_count": null,
   "metadata": {},
   "outputs": [],
   "source": [
    "import sys\n",
    "import os\n",
    "sys.path.append(os.path.abspath(os.path.join('..')))\n",
    "\n",
    "import pandas as pd\n",
    "import numpy as np\n",
    "import re\n",
    "from datetime import datetime, timedelta\n",
    "from dateutil.relativedelta import relativedelta\n",
    "from src import cleaning"
   ]
  },
  {
   "cell_type": "markdown",
   "metadata": {},
   "source": [
    "### Select the raw data to process"
   ]
  },
  {
   "cell_type": "code",
   "execution_count": null,
   "metadata": {},
   "outputs": [],
   "source": [
    "raw_data_path = '../data/raw/'\n",
    "\n",
    "name = 'hd'\n",
    "reviews_raw = pd.read_csv(raw_data_path + 'collected_reviews_' + name + '.csv')\n",
    "resumme_raw = pd.read_csv(raw_data_path + 'resumme_' + name + '.csv')\n",
    "display(resumme_raw)\n",
    "display(reviews_raw.sample(5))"
   ]
  },
  {
   "cell_type": "markdown",
   "metadata": {},
   "source": [
    "### Search words selected"
   ]
  },
  {
   "cell_type": "markdown",
   "metadata": {},
   "source": [
    "Define a dictionary of regular expressions to extract specific fields (service, meal type, price range, scores, etc.) from the review text."
   ]
  },
  {
   "cell_type": "code",
   "execution_count": null,
   "metadata": {},
   "outputs": [],
   "source": [
    "restaurant_search_words = {\n",
    "    'service': r'Servicio\\n([^\\n]+)',\n",
    "    'meal_type': r'Tipo de comida\\n([^\\n]+)',\n",
    "    'price_per_person': r'Precio por persona\\n([0-9€\\- ]+)',\n",
    "    'food_score': r'Comida: (\\d+)',\n",
    "    'service_score': r'Servicio: (\\d+)',\n",
    "    'atmosphere_score': r'Ambiente: (\\d+)',\n",
    "    'recommended': r'Platos recomendados\\n([^\\n]+)'\n",
    "}"
   ]
  },
  {
   "cell_type": "code",
   "execution_count": null,
   "metadata": {},
   "outputs": [],
   "source": [
    "reviews = reviews_raw.copy()"
   ]
  },
  {
   "cell_type": "markdown",
   "metadata": {},
   "source": [
    "### Removing duplicates"
   ]
  },
  {
   "cell_type": "markdown",
   "metadata": {},
   "source": [
    "Check for duplicated rows in the dataset and remove them to ensure data integrity"
   ]
  },
  {
   "cell_type": "code",
   "execution_count": null,
   "metadata": {},
   "outputs": [],
   "source": [
    "# Convert any list-like columns to strings so they can be checked for duplicates\n",
    "check_dups = reviews.copy()\n",
    "for col in check_dups.columns:\n",
    "    if check_dups[col].dtype == 'object' and isinstance(check_dups[col].iloc[0], list):\n",
    "        check_dups[col] = check_dups[col].apply(lambda x: str(x))\n",
    "\n",
    "# Now you can check and remove duplicates\n",
    "duplicates_count = check_dups.duplicated().sum()\n",
    "print(f\"Number of duplicated rows: {duplicates_count}\")\n",
    "\n",
    "# Remove duplicates\n",
    "reviews.drop_duplicates(inplace=True)\n",
    "print(\"Duplicates removed successfully.\")"
   ]
  },
  {
   "cell_type": "markdown",
   "metadata": {},
   "source": [
    "### Prepare and process all fields"
   ]
  },
  {
   "cell_type": "markdown",
   "metadata": {},
   "source": [
    "Clean and convert relevant columns to numeric types, extract additional details (e.g., average price per person), and drop unnecessary columns from the DataFrame."
   ]
  },
  {
   "cell_type": "code",
   "execution_count": null,
   "metadata": {},
   "outputs": [],
   "source": [
    "reviews['local_guide_reviews'] = reviews['local_guide_info'].apply(cleaning.extractReviewCount)\n",
    "reviews['rating_score'] = reviews['rating'].apply(cleaning.extractStarRating)\n",
    "reviews = cleaning.applyExtractDetails(reviews, search_words = restaurant_search_words)\n",
    "reviews['recommendations_list'] = reviews['recommended'].apply(cleaning.extractRecommendations)\n",
    "reviews['date'] = reviews['date_text'].apply(cleaning.convertToDate)\n",
    "\n",
    "reviews['food_score'] = reviews['food_score'].apply(pd.to_numeric, errors='coerce')\n",
    "reviews['service_score'] = reviews['service_score'].apply(pd.to_numeric, errors='coerce')\n",
    "reviews['atmosphere_score'] = reviews['atmosphere_score'].apply(pd.to_numeric, errors='coerce')\n",
    "reviews['avg_price_per_person'] = reviews['price_per_person'].str.extract(r'-(\\d+)\\s*€')\n",
    "reviews['avg_price_per_person'] = pd.to_numeric(reviews['avg_price_per_person'], errors='coerce').astype('Int64')\n",
    "\n",
    "\n",
    "reviews.drop(columns = ['text_backup', 'local_guide_info', 'rating', 'author', 'recommended', 'date_text'], inplace = True)\n",
    "reviews.reset_index(inplace=True)\n",
    "reviews.rename(columns={'index': 'review_id', 'price_per_person':'price_per_person_category'}, inplace=True)"
   ]
  },
  {
   "cell_type": "markdown",
   "metadata": {},
   "source": [
    "### Check null values"
   ]
  },
  {
   "cell_type": "markdown",
   "metadata": {},
   "source": [
    "Fill missing values in specific columns with defaults (e.g., 1 for local_guide_reviews, 1 for rating_score)."
   ]
  },
  {
   "cell_type": "code",
   "execution_count": null,
   "metadata": {},
   "outputs": [],
   "source": [
    "# Check for missing values in each column\n",
    "missing_values = reviews.isnull().sum()\n",
    "print(\"Missing values per column:\")\n",
    "print(missing_values)\n",
    "\n",
    "# Optionally, you can also check the percentage of missing values\n",
    "missing_percentage = (reviews.isnull().mean() * 100).round(2)\n",
    "print(\"Percentage of missing values per column:\")\n",
    "print(missing_percentage)\n"
   ]
  },
  {
   "cell_type": "code",
   "execution_count": null,
   "metadata": {},
   "outputs": [],
   "source": [
    "# Fill NA values\n",
    "reviews['local_guide_reviews'] = reviews['local_guide_reviews'].fillna(1)\n",
    "reviews['rating_score'] = reviews['rating_score'].fillna(1)"
   ]
  },
  {
   "cell_type": "markdown",
   "metadata": {},
   "source": [
    "### Variables distribution"
   ]
  },
  {
   "cell_type": "markdown",
   "metadata": {},
   "source": [
    "Generate a summary of the numeric variables in the dataset. This provides insights into the distribution of ratings, review counts, and prices."
   ]
  },
  {
   "cell_type": "code",
   "execution_count": null,
   "metadata": {},
   "outputs": [],
   "source": [
    "# Summary of numeric columns\n",
    "print(\"Summary of numeric variables:\")\n",
    "display(reviews.describe())\n",
    "\n",
    "# Summary of categorical columns\n",
    "print(\"Distribution of categorical variables:\")\n",
    "for col in reviews.select_dtypes(include=['object']).columns:\n",
    "    if col in (\"review\", 'recommendations_list', 'date'):\n",
    "        continue\n",
    "    print(f\"\\n{col} distribution:\")\n",
    "    print(reviews[col].value_counts())\n"
   ]
  },
  {
   "cell_type": "markdown",
   "metadata": {},
   "source": [
    "### Saving clean data to processed folder"
   ]
  },
  {
   "cell_type": "code",
   "execution_count": null,
   "metadata": {},
   "outputs": [],
   "source": [
    "csv_file_path = '../data/processed/'\n",
    "reviews.to_csv(csv_file_path + name + '_reviews.csv', index=False)\n",
    "print('OK! -> processed reviews saved at', csv_file_path + name + '_reviews.csv')"
   ]
  },
  {
   "cell_type": "code",
   "execution_count": null,
   "metadata": {},
   "outputs": [],
   "source": [
    "display(reviews.sample(20))"
   ]
  }
 ],
 "metadata": {
  "kernelspec": {
   "display_name": "sar",
   "language": "python",
   "name": "python3"
  },
  "language_info": {
   "codemirror_mode": {
    "name": "ipython",
    "version": 3
   },
   "file_extension": ".py",
   "mimetype": "text/x-python",
   "name": "python",
   "nbconvert_exporter": "python",
   "pygments_lexer": "ipython3",
   "version": "3.9.19"
  }
 },
 "nbformat": 4,
 "nbformat_minor": 2
}
