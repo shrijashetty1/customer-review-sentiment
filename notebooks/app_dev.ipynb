{
 "cells": [
  {
   "cell_type": "code",
   "execution_count": 2,
   "metadata": {},
   "outputs": [
    {
     "name": "stderr",
     "output_type": "stream",
     "text": [
      "[nltk_data] Downloading package stopwords to\n",
      "[nltk_data]     /Users/jobandtalent/nltk_data...\n",
      "[nltk_data]   Package stopwords is already up-to-date!\n",
      "[nltk_data] Downloading package vader_lexicon to\n",
      "[nltk_data]     /Users/jobandtalent/nltk_data...\n",
      "[nltk_data]   Package vader_lexicon is already up-to-date!\n"
     ]
    }
   ],
   "source": [
    "import streamlit as st\n",
    "import pandas as pd\n",
    "import numpy as np\n",
    "import re\n",
    "import json\n",
    "import os\n",
    "import sys\n",
    "\n",
    "import matplotlib.pyplot as plt\n",
    "import seaborn as sns\n",
    "import plotly.graph_objects as go\n",
    "import plotly.express as px\n",
    "from plotly.subplots import make_subplots\n",
    "\n",
    "import networkx as nx\n",
    "\n",
    "from sklearn.neighbors import NearestNeighbors\n",
    "from sklearn.metrics.pairwise import cosine_similarity\n",
    "from sklearn.feature_extraction.text import TfidfVectorizer\n",
    "\n",
    "sys.path.append(os.path.abspath(os.path.join('..')))\n",
    "from src import plots\n",
    "from src import ml_processing"
   ]
  },
  {
   "cell_type": "markdown",
   "metadata": {},
   "source": [
    "### Load data"
   ]
  },
  {
   "cell_type": "code",
   "execution_count": 3,
   "metadata": {},
   "outputs": [],
   "source": [
    "def loadData(uploaded_file):\n",
    "    if uploaded_file is not None:\n",
    "        return pd.read_csv(uploaded_file)\n",
    "    return None\n",
    "\n",
    "def extractPrefix(file_name):\n",
    "    # Split the filename and extract the part before \"_ml\"\n",
    "    return file_name.split('_ml')[0]\n",
    "\n",
    "def loadJson(file_path):\n",
    "    with open(file_path, 'r') as file:\n",
    "        return json.load(file)\n",
    "\n",
    "def reFormatEmbeddings(embedding_str):\n",
    "    cleaned_str = re.sub(r'[\\[\\]\\n]', '', embedding_str)\n",
    "    embedding_list = list(map(float, cleaned_str.split()))\n",
    "    return np.array(embedding_list, dtype=np.float32)\n",
    "    return embedding_str\n",
    "\n",
    "processed_path = '../data/processed/'\n",
    "raw_path = '../data/raw/'"
   ]
  },
  {
   "cell_type": "code",
   "execution_count": 4,
   "metadata": {},
   "outputs": [],
   "source": [
    "uploaded_file = 'hd_ml_processed_reviews.csv'\n",
    "\n",
    "## Load all necessary data\n",
    "# Load reviews data and extract place from the file name\n",
    "reviews = loadData(processed_path + uploaded_file)\n",
    "if 'embedding' in reviews.columns:\n",
    "    # Convert embeddings from string to list of floats\n",
    "    reviews['embedding'] = reviews['embedding'].apply(reFormatEmbeddings)\n",
    "\n",
    "file_name = uploaded_file\n",
    "place = extractPrefix(file_name)\n",
    "\n",
    "# Paths for the JSON and additional CSV files\n",
    "general_insights_file = os.path.join(processed_path, f\"{place}_general_insights.json\")\n",
    "worst_periods_file = os.path.join(processed_path, f\"{place}_worst_periods_insights.json\")\n",
    "sample_reviews_file = os.path.join(processed_path, f\"{place}_sample_selected_reviews.csv\")\n",
    "resume_file = os.path.join(raw_path, f\"resumme_{place}.csv\")\n",
    "\n",
    "# Load \"place\"_general_insights.json into a dictionary\n",
    "if os.path.exists(general_insights_file):\n",
    "    general_insights = loadJson(general_insights_file)\n",
    "\n",
    "# Load \"place\"_worst_periods_insights.json into a dictionary\n",
    "if os.path.exists(worst_periods_file):\n",
    "    worst_periods_insights = loadJson(worst_periods_file)\n",
    "\n",
    "# Load \"place\"_sample_selected_reviews.csv into a DataFrame\n",
    "if os.path.exists(sample_reviews_file):\n",
    "    sample_reviews = pd.read_csv(sample_reviews_file)\n",
    "\n",
    "# Load resumme_\"place\".csv from ./data/raw into a DataFrame\n",
    "if os.path.exists(resume_file):\n",
    "    resume = pd.read_csv(resume_file)"
   ]
  },
  {
   "cell_type": "markdown",
   "metadata": {},
   "source": [
    "### Dev"
   ]
  },
  {
   "cell_type": "code",
   "execution_count": 5,
   "metadata": {},
   "outputs": [
    {
     "data": {
      "text/html": [
       "<div>\n",
       "<style scoped>\n",
       "    .dataframe tbody tr th:only-of-type {\n",
       "        vertical-align: middle;\n",
       "    }\n",
       "\n",
       "    .dataframe tbody tr th {\n",
       "        vertical-align: top;\n",
       "    }\n",
       "\n",
       "    .dataframe thead th {\n",
       "        text-align: right;\n",
       "    }\n",
       "</style>\n",
       "<table border=\"1\" class=\"dataframe\">\n",
       "  <thead>\n",
       "    <tr style=\"text-align: right;\">\n",
       "      <th></th>\n",
       "      <th>review_id</th>\n",
       "      <th>review</th>\n",
       "      <th>local_guide_reviews</th>\n",
       "      <th>rating_score</th>\n",
       "      <th>service</th>\n",
       "      <th>meal_type</th>\n",
       "      <th>price_per_person_category</th>\n",
       "      <th>food_score</th>\n",
       "      <th>service_score</th>\n",
       "      <th>atmosphere_score</th>\n",
       "      <th>...</th>\n",
       "      <th>cleaned_review</th>\n",
       "      <th>vader_sentiment</th>\n",
       "      <th>sentiment_label</th>\n",
       "      <th>embedding</th>\n",
       "      <th>pca_cluster</th>\n",
       "      <th>umap_cluster</th>\n",
       "      <th>month</th>\n",
       "      <th>year</th>\n",
       "      <th>total_score</th>\n",
       "      <th>sample_type</th>\n",
       "    </tr>\n",
       "  </thead>\n",
       "  <tbody>\n",
       "    <tr>\n",
       "      <th>18</th>\n",
       "      <td>4.0</td>\n",
       "      <td>Un gofre frío y tieso 9,20€? Nunca me había se...</td>\n",
       "      <td>58.0</td>\n",
       "      <td>1.0</td>\n",
       "      <td>NaN</td>\n",
       "      <td>NaN</td>\n",
       "      <td>NaN</td>\n",
       "      <td>1.000</td>\n",
       "      <td>1.000</td>\n",
       "      <td>2.000</td>\n",
       "      <td>...</td>\n",
       "      <td>gofre frío tieso 920 nunca tanto estafado 3 ba...</td>\n",
       "      <td>0.0000</td>\n",
       "      <td>negative</td>\n",
       "      <td>[ 9.47576336e-05 -3.84988636e-01 -1.52471945e-...</td>\n",
       "      <td>0.0</td>\n",
       "      <td>0.0</td>\n",
       "      <td>NaN</td>\n",
       "      <td>NaN</td>\n",
       "      <td>1.27</td>\n",
       "      <td>worst_reviews_sample</td>\n",
       "    </tr>\n",
       "    <tr>\n",
       "      <th>16</th>\n",
       "      <td>194.0</td>\n",
       "      <td>¡Solo el ambiente salva este lugar!  cóctel te...</td>\n",
       "      <td>14.0</td>\n",
       "      <td>1.0</td>\n",
       "      <td>NaN</td>\n",
       "      <td>NaN</td>\n",
       "      <td>NaN</td>\n",
       "      <td>0.874</td>\n",
       "      <td>0.902</td>\n",
       "      <td>0.894</td>\n",
       "      <td>...</td>\n",
       "      <td>solo ambiente salir lugar cóctel terrible serv...</td>\n",
       "      <td>-0.4767</td>\n",
       "      <td>negative</td>\n",
       "      <td>[-1.21311672e-01 -4.76346105e-01  1.00005493e-...</td>\n",
       "      <td>0.0</td>\n",
       "      <td>0.0</td>\n",
       "      <td>2023-01</td>\n",
       "      <td>2023.0</td>\n",
       "      <td>1.18</td>\n",
       "      <td>worst_reviews_sample</td>\n",
       "    </tr>\n",
       "    <tr>\n",
       "      <th>22</th>\n",
       "      <td>NaN</td>\n",
       "      <td>Ya no es lo que era, vamos q hasta he encontra...</td>\n",
       "      <td>NaN</td>\n",
       "      <td>3.0</td>\n",
       "      <td>NaN</td>\n",
       "      <td>NaN</td>\n",
       "      <td>NaN</td>\n",
       "      <td>NaN</td>\n",
       "      <td>NaN</td>\n",
       "      <td>NaN</td>\n",
       "      <td>...</td>\n",
       "      <td>NaN</td>\n",
       "      <td>NaN</td>\n",
       "      <td>NaN</td>\n",
       "      <td>NaN</td>\n",
       "      <td>NaN</td>\n",
       "      <td>NaN</td>\n",
       "      <td>2024-03</td>\n",
       "      <td>NaN</td>\n",
       "      <td>NaN</td>\n",
       "      <td>low_score_reviews</td>\n",
       "    </tr>\n",
       "  </tbody>\n",
       "</table>\n",
       "<p>3 rows × 23 columns</p>\n",
       "</div>"
      ],
      "text/plain": [
       "    review_id                                             review  \\\n",
       "18        4.0  Un gofre frío y tieso 9,20€? Nunca me había se...   \n",
       "16      194.0  ¡Solo el ambiente salva este lugar!  cóctel te...   \n",
       "22        NaN  Ya no es lo que era, vamos q hasta he encontra...   \n",
       "\n",
       "    local_guide_reviews  rating_score service meal_type  \\\n",
       "18                 58.0           1.0     NaN       NaN   \n",
       "16                 14.0           1.0     NaN       NaN   \n",
       "22                  NaN           3.0     NaN       NaN   \n",
       "\n",
       "   price_per_person_category  food_score  service_score  atmosphere_score  \\\n",
       "18                       NaN       1.000          1.000             2.000   \n",
       "16                       NaN       0.874          0.902             0.894   \n",
       "22                       NaN         NaN            NaN               NaN   \n",
       "\n",
       "    ...                                     cleaned_review vader_sentiment  \\\n",
       "18  ...  gofre frío tieso 920 nunca tanto estafado 3 ba...          0.0000   \n",
       "16  ...  solo ambiente salir lugar cóctel terrible serv...         -0.4767   \n",
       "22  ...                                                NaN             NaN   \n",
       "\n",
       "    sentiment_label                                          embedding  \\\n",
       "18         negative  [ 9.47576336e-05 -3.84988636e-01 -1.52471945e-...   \n",
       "16         negative  [-1.21311672e-01 -4.76346105e-01  1.00005493e-...   \n",
       "22              NaN                                                NaN   \n",
       "\n",
       "    pca_cluster umap_cluster    month    year  total_score  \\\n",
       "18          0.0          0.0      NaN     NaN         1.27   \n",
       "16          0.0          0.0  2023-01  2023.0         1.18   \n",
       "22          NaN          NaN  2024-03     NaN          NaN   \n",
       "\n",
       "             sample_type  \n",
       "18  worst_reviews_sample  \n",
       "16  worst_reviews_sample  \n",
       "22     low_score_reviews  \n",
       "\n",
       "[3 rows x 23 columns]"
      ]
     },
     "metadata": {},
     "output_type": "display_data"
    }
   ],
   "source": [
    "display(sample_reviews.sample(3))\n",
    "\n",
    "# best_reviews\n",
    "best_reviews = sample_reviews[sample_reviews['sample_type'] == 'best_reviews_sample'][['date', 'rating_score','review', 'food_score', 'service_score', 'atmosphere_score', 'meal_type']]\n",
    "best_reviews.rename(columns = {'review':'Review', 'rating_score':'Rating', 'meal_type':'Meal','food_score':'Food', 'service_score':'Service', 'atmosphere_score':'Ambient', 'date':'Date'}, inplace = True)\n",
    "\n",
    "# worst_reviews\n",
    "worst_reviews = sample_reviews[sample_reviews['sample_type'] == 'worst_reviews_sample'][['date', 'rating_score','review', 'food_score', 'service_score', 'atmosphere_score', 'meal_type']]\n",
    "worst_reviews.rename(columns = {'review':'Review', 'rating_score':'Rating', 'meal_type':'Meal','food_score':'Food', 'service_score':'Service', 'atmosphere_score':'Ambient', 'date':'Date'}, inplace = True)"
   ]
  },
  {
   "cell_type": "code",
   "execution_count": 6,
   "metadata": {},
   "outputs": [
    {
     "data": {
      "text/plain": [
       "{'best': ['Customers frequently praise the quality and taste of the burgers.',\n",
       "  'Many enjoy the overall ambiance and atmosphere of the dining space.',\n",
       "  'The reasonable pricing of the food is consistently noted as a positive aspect.'],\n",
       " 'worst': ['Several customers have experienced delays when trying to place orders.',\n",
       "  'There are reports of subpar service that detract from the dining experience.',\n",
       "  'Some diners have found certain menu items to be disappointing and not worth the price.'],\n",
       " 'improve': ['Streamline the ordering process to reduce waiting times for customers.',\n",
       "  'Enhance staff training to improve the quality and responsiveness of customer service.',\n",
       "  'Review the menu offerings to ensure all items meet customer expectations and value.']}"
      ]
     },
     "execution_count": 6,
     "metadata": {},
     "output_type": "execute_result"
    }
   ],
   "source": [
    "general_insights"
   ]
  },
  {
   "cell_type": "code",
   "execution_count": 7,
   "metadata": {},
   "outputs": [
    {
     "data": {
      "text/plain": [
       "{'2023-11': {'problems': ['Customers reported that the café environment was not inviting.',\n",
       "   'There seems to be a lack of urgency in addressing customer concerns during visits.'],\n",
       "  'improve': ['Enhance the ambiance of the café to make it more welcoming.',\n",
       "   'Implement a training program focused on timely customer service response.']},\n",
       " '2024-02': {'problems': ['Service was described as poor, leading to negative customer experiences.',\n",
       "   'Customers felt that their orders were not managed properly.'],\n",
       "  'improve': ['Conduct regular service quality assessments to identify areas needing improvement.',\n",
       "   'Increase staff training on order management and customer interaction.']},\n",
       " '2024-03': {'problems': ['High noise levels were reported, making the atmosphere uncomfortable.',\n",
       "   'Customers expressed dissatisfaction with the consistency of their experiences.'],\n",
       "  'improve': ['Consider soundproofing measures or altering the layout to reduce noise.',\n",
       "   'Standardize service procedures to ensure a consistent experience for all customers.']},\n",
       " '2024-08': {'problems': ['Seating arrangements were found to be uncomfortable by patrons.',\n",
       "   'There were mixed feelings about the overall dining experience.'],\n",
       "  'improve': ['Reevaluate the dining layout and invest in comfortable seating options.',\n",
       "   'Solicit regular feedback from customers to continuously improve the dining experience.']}}"
      ]
     },
     "execution_count": 7,
     "metadata": {},
     "output_type": "execute_result"
    }
   ],
   "source": [
    "worst_periods_insights"
   ]
  },
  {
   "cell_type": "code",
   "execution_count": 8,
   "metadata": {},
   "outputs": [
    {
     "data": {
      "text/html": [
       "<div>\n",
       "<style scoped>\n",
       "    .dataframe tbody tr th:only-of-type {\n",
       "        vertical-align: middle;\n",
       "    }\n",
       "\n",
       "    .dataframe tbody tr th {\n",
       "        vertical-align: top;\n",
       "    }\n",
       "\n",
       "    .dataframe thead th {\n",
       "        text-align: right;\n",
       "    }\n",
       "</style>\n",
       "<table border=\"1\" class=\"dataframe\">\n",
       "  <thead>\n",
       "    <tr style=\"text-align: right;\">\n",
       "      <th></th>\n",
       "      <th>review_id</th>\n",
       "      <th>review</th>\n",
       "      <th>local_guide_reviews</th>\n",
       "      <th>rating_score</th>\n",
       "      <th>service</th>\n",
       "      <th>meal_type</th>\n",
       "      <th>price_per_person_category</th>\n",
       "      <th>food_score</th>\n",
       "      <th>service_score</th>\n",
       "      <th>atmosphere_score</th>\n",
       "      <th>...</th>\n",
       "      <th>cleaned_review</th>\n",
       "      <th>vader_sentiment</th>\n",
       "      <th>sentiment_label</th>\n",
       "      <th>embedding</th>\n",
       "      <th>pca_cluster</th>\n",
       "      <th>umap_cluster</th>\n",
       "      <th>month</th>\n",
       "      <th>year</th>\n",
       "      <th>total_score</th>\n",
       "      <th>sample_type</th>\n",
       "    </tr>\n",
       "  </thead>\n",
       "  <tbody>\n",
       "    <tr>\n",
       "      <th>18</th>\n",
       "      <td>4.0</td>\n",
       "      <td>Un gofre frío y tieso 9,20€? Nunca me había se...</td>\n",
       "      <td>58.0</td>\n",
       "      <td>1.0</td>\n",
       "      <td>NaN</td>\n",
       "      <td>NaN</td>\n",
       "      <td>NaN</td>\n",
       "      <td>1.0</td>\n",
       "      <td>1.0</td>\n",
       "      <td>2.0</td>\n",
       "      <td>...</td>\n",
       "      <td>gofre frío tieso 920 nunca tanto estafado 3 ba...</td>\n",
       "      <td>0.0</td>\n",
       "      <td>negative</td>\n",
       "      <td>[ 9.47576336e-05 -3.84988636e-01 -1.52471945e-...</td>\n",
       "      <td>0.0</td>\n",
       "      <td>0.0</td>\n",
       "      <td>NaN</td>\n",
       "      <td>NaN</td>\n",
       "      <td>1.27</td>\n",
       "      <td>worst_reviews_sample</td>\n",
       "    </tr>\n",
       "    <tr>\n",
       "      <th>22</th>\n",
       "      <td>NaN</td>\n",
       "      <td>Ya no es lo que era, vamos q hasta he encontra...</td>\n",
       "      <td>NaN</td>\n",
       "      <td>3.0</td>\n",
       "      <td>NaN</td>\n",
       "      <td>NaN</td>\n",
       "      <td>NaN</td>\n",
       "      <td>NaN</td>\n",
       "      <td>NaN</td>\n",
       "      <td>NaN</td>\n",
       "      <td>...</td>\n",
       "      <td>NaN</td>\n",
       "      <td>NaN</td>\n",
       "      <td>NaN</td>\n",
       "      <td>NaN</td>\n",
       "      <td>NaN</td>\n",
       "      <td>NaN</td>\n",
       "      <td>2024-03</td>\n",
       "      <td>NaN</td>\n",
       "      <td>NaN</td>\n",
       "      <td>low_score_reviews</td>\n",
       "    </tr>\n",
       "    <tr>\n",
       "      <th>23</th>\n",
       "      <td>NaN</td>\n",
       "      <td>La comida me resultó bastante mala. Los canelo...</td>\n",
       "      <td>NaN</td>\n",
       "      <td>1.0</td>\n",
       "      <td>NaN</td>\n",
       "      <td>NaN</td>\n",
       "      <td>NaN</td>\n",
       "      <td>NaN</td>\n",
       "      <td>NaN</td>\n",
       "      <td>NaN</td>\n",
       "      <td>...</td>\n",
       "      <td>NaN</td>\n",
       "      <td>NaN</td>\n",
       "      <td>NaN</td>\n",
       "      <td>NaN</td>\n",
       "      <td>NaN</td>\n",
       "      <td>NaN</td>\n",
       "      <td>2024-08</td>\n",
       "      <td>NaN</td>\n",
       "      <td>NaN</td>\n",
       "      <td>low_score_reviews</td>\n",
       "    </tr>\n",
       "  </tbody>\n",
       "</table>\n",
       "<p>3 rows × 23 columns</p>\n",
       "</div>"
      ],
      "text/plain": [
       "    review_id                                             review  \\\n",
       "18        4.0  Un gofre frío y tieso 9,20€? Nunca me había se...   \n",
       "22        NaN  Ya no es lo que era, vamos q hasta he encontra...   \n",
       "23        NaN  La comida me resultó bastante mala. Los canelo...   \n",
       "\n",
       "    local_guide_reviews  rating_score service meal_type  \\\n",
       "18                 58.0           1.0     NaN       NaN   \n",
       "22                  NaN           3.0     NaN       NaN   \n",
       "23                  NaN           1.0     NaN       NaN   \n",
       "\n",
       "   price_per_person_category  food_score  service_score  atmosphere_score  \\\n",
       "18                       NaN         1.0            1.0               2.0   \n",
       "22                       NaN         NaN            NaN               NaN   \n",
       "23                       NaN         NaN            NaN               NaN   \n",
       "\n",
       "    ...                                     cleaned_review vader_sentiment  \\\n",
       "18  ...  gofre frío tieso 920 nunca tanto estafado 3 ba...             0.0   \n",
       "22  ...                                                NaN             NaN   \n",
       "23  ...                                                NaN             NaN   \n",
       "\n",
       "    sentiment_label                                          embedding  \\\n",
       "18         negative  [ 9.47576336e-05 -3.84988636e-01 -1.52471945e-...   \n",
       "22              NaN                                                NaN   \n",
       "23              NaN                                                NaN   \n",
       "\n",
       "    pca_cluster umap_cluster    month  year  total_score           sample_type  \n",
       "18          0.0          0.0      NaN   NaN         1.27  worst_reviews_sample  \n",
       "22          NaN          NaN  2024-03   NaN          NaN     low_score_reviews  \n",
       "23          NaN          NaN  2024-08   NaN          NaN     low_score_reviews  \n",
       "\n",
       "[3 rows x 23 columns]"
      ]
     },
     "metadata": {},
     "output_type": "display_data"
    }
   ],
   "source": [
    "display(sample_reviews.sample(3))"
   ]
  },
  {
   "cell_type": "code",
   "execution_count": 9,
   "metadata": {},
   "outputs": [
    {
     "data": {
      "text/html": [
       "<div>\n",
       "<style scoped>\n",
       "    .dataframe tbody tr th:only-of-type {\n",
       "        vertical-align: middle;\n",
       "    }\n",
       "\n",
       "    .dataframe tbody tr th {\n",
       "        vertical-align: top;\n",
       "    }\n",
       "\n",
       "    .dataframe thead th {\n",
       "        text-align: right;\n",
       "    }\n",
       "</style>\n",
       "<table border=\"1\" class=\"dataframe\">\n",
       "  <thead>\n",
       "    <tr style=\"text-align: right;\">\n",
       "      <th></th>\n",
       "      <th>review_id</th>\n",
       "      <th>review</th>\n",
       "      <th>local_guide_reviews</th>\n",
       "      <th>rating_score</th>\n",
       "      <th>service</th>\n",
       "      <th>meal_type</th>\n",
       "      <th>price_per_person_category</th>\n",
       "      <th>food_score</th>\n",
       "      <th>service_score</th>\n",
       "      <th>atmosphere_score</th>\n",
       "      <th>...</th>\n",
       "      <th>avg_price_per_person</th>\n",
       "      <th>cleaned_review</th>\n",
       "      <th>vader_sentiment</th>\n",
       "      <th>sentiment_label</th>\n",
       "      <th>embedding</th>\n",
       "      <th>pca_cluster</th>\n",
       "      <th>umap_cluster</th>\n",
       "      <th>month</th>\n",
       "      <th>year</th>\n",
       "      <th>total_score</th>\n",
       "    </tr>\n",
       "    <tr>\n",
       "      <th>sample_type</th>\n",
       "      <th></th>\n",
       "      <th></th>\n",
       "      <th></th>\n",
       "      <th></th>\n",
       "      <th></th>\n",
       "      <th></th>\n",
       "      <th></th>\n",
       "      <th></th>\n",
       "      <th></th>\n",
       "      <th></th>\n",
       "      <th></th>\n",
       "      <th></th>\n",
       "      <th></th>\n",
       "      <th></th>\n",
       "      <th></th>\n",
       "      <th></th>\n",
       "      <th></th>\n",
       "      <th></th>\n",
       "      <th></th>\n",
       "      <th></th>\n",
       "      <th></th>\n",
       "    </tr>\n",
       "  </thead>\n",
       "  <tbody>\n",
       "    <tr>\n",
       "      <th>best_reviews_sample</th>\n",
       "      <td>5</td>\n",
       "      <td>5</td>\n",
       "      <td>5</td>\n",
       "      <td>5</td>\n",
       "      <td>3</td>\n",
       "      <td>3</td>\n",
       "      <td>3</td>\n",
       "      <td>5</td>\n",
       "      <td>5</td>\n",
       "      <td>5</td>\n",
       "      <td>...</td>\n",
       "      <td>3</td>\n",
       "      <td>5</td>\n",
       "      <td>5</td>\n",
       "      <td>5</td>\n",
       "      <td>5</td>\n",
       "      <td>5</td>\n",
       "      <td>5</td>\n",
       "      <td>5</td>\n",
       "      <td>5</td>\n",
       "      <td>5</td>\n",
       "    </tr>\n",
       "    <tr>\n",
       "      <th>low_score_reviews</th>\n",
       "      <td>0</td>\n",
       "      <td>4</td>\n",
       "      <td>0</td>\n",
       "      <td>4</td>\n",
       "      <td>0</td>\n",
       "      <td>0</td>\n",
       "      <td>0</td>\n",
       "      <td>0</td>\n",
       "      <td>0</td>\n",
       "      <td>0</td>\n",
       "      <td>...</td>\n",
       "      <td>0</td>\n",
       "      <td>0</td>\n",
       "      <td>0</td>\n",
       "      <td>0</td>\n",
       "      <td>0</td>\n",
       "      <td>0</td>\n",
       "      <td>0</td>\n",
       "      <td>4</td>\n",
       "      <td>0</td>\n",
       "      <td>0</td>\n",
       "    </tr>\n",
       "    <tr>\n",
       "      <th>recent_best_reviews</th>\n",
       "      <td>5</td>\n",
       "      <td>5</td>\n",
       "      <td>5</td>\n",
       "      <td>5</td>\n",
       "      <td>2</td>\n",
       "      <td>2</td>\n",
       "      <td>2</td>\n",
       "      <td>5</td>\n",
       "      <td>5</td>\n",
       "      <td>5</td>\n",
       "      <td>...</td>\n",
       "      <td>2</td>\n",
       "      <td>5</td>\n",
       "      <td>5</td>\n",
       "      <td>5</td>\n",
       "      <td>5</td>\n",
       "      <td>5</td>\n",
       "      <td>5</td>\n",
       "      <td>5</td>\n",
       "      <td>5</td>\n",
       "      <td>5</td>\n",
       "    </tr>\n",
       "    <tr>\n",
       "      <th>recent_worst_reviews</th>\n",
       "      <td>5</td>\n",
       "      <td>5</td>\n",
       "      <td>5</td>\n",
       "      <td>5</td>\n",
       "      <td>2</td>\n",
       "      <td>2</td>\n",
       "      <td>2</td>\n",
       "      <td>5</td>\n",
       "      <td>5</td>\n",
       "      <td>5</td>\n",
       "      <td>...</td>\n",
       "      <td>2</td>\n",
       "      <td>5</td>\n",
       "      <td>5</td>\n",
       "      <td>5</td>\n",
       "      <td>5</td>\n",
       "      <td>5</td>\n",
       "      <td>5</td>\n",
       "      <td>5</td>\n",
       "      <td>5</td>\n",
       "      <td>5</td>\n",
       "    </tr>\n",
       "    <tr>\n",
       "      <th>worst_reviews_sample</th>\n",
       "      <td>5</td>\n",
       "      <td>5</td>\n",
       "      <td>5</td>\n",
       "      <td>5</td>\n",
       "      <td>1</td>\n",
       "      <td>1</td>\n",
       "      <td>1</td>\n",
       "      <td>5</td>\n",
       "      <td>5</td>\n",
       "      <td>5</td>\n",
       "      <td>...</td>\n",
       "      <td>1</td>\n",
       "      <td>5</td>\n",
       "      <td>5</td>\n",
       "      <td>5</td>\n",
       "      <td>5</td>\n",
       "      <td>5</td>\n",
       "      <td>5</td>\n",
       "      <td>4</td>\n",
       "      <td>4</td>\n",
       "      <td>5</td>\n",
       "    </tr>\n",
       "  </tbody>\n",
       "</table>\n",
       "<p>5 rows × 22 columns</p>\n",
       "</div>"
      ],
      "text/plain": [
       "                      review_id  review  local_guide_reviews  rating_score  \\\n",
       "sample_type                                                                  \n",
       "best_reviews_sample           5       5                    5             5   \n",
       "low_score_reviews             0       4                    0             4   \n",
       "recent_best_reviews           5       5                    5             5   \n",
       "recent_worst_reviews          5       5                    5             5   \n",
       "worst_reviews_sample          5       5                    5             5   \n",
       "\n",
       "                      service  meal_type  price_per_person_category  \\\n",
       "sample_type                                                           \n",
       "best_reviews_sample         3          3                          3   \n",
       "low_score_reviews           0          0                          0   \n",
       "recent_best_reviews         2          2                          2   \n",
       "recent_worst_reviews        2          2                          2   \n",
       "worst_reviews_sample        1          1                          1   \n",
       "\n",
       "                      food_score  service_score  atmosphere_score  ...  \\\n",
       "sample_type                                                        ...   \n",
       "best_reviews_sample            5              5                 5  ...   \n",
       "low_score_reviews              0              0                 0  ...   \n",
       "recent_best_reviews            5              5                 5  ...   \n",
       "recent_worst_reviews           5              5                 5  ...   \n",
       "worst_reviews_sample           5              5                 5  ...   \n",
       "\n",
       "                      avg_price_per_person  cleaned_review  vader_sentiment  \\\n",
       "sample_type                                                                   \n",
       "best_reviews_sample                      3               5                5   \n",
       "low_score_reviews                        0               0                0   \n",
       "recent_best_reviews                      2               5                5   \n",
       "recent_worst_reviews                     2               5                5   \n",
       "worst_reviews_sample                     1               5                5   \n",
       "\n",
       "                      sentiment_label  embedding  pca_cluster  umap_cluster  \\\n",
       "sample_type                                                                   \n",
       "best_reviews_sample                 5          5            5             5   \n",
       "low_score_reviews                   0          0            0             0   \n",
       "recent_best_reviews                 5          5            5             5   \n",
       "recent_worst_reviews                5          5            5             5   \n",
       "worst_reviews_sample                5          5            5             5   \n",
       "\n",
       "                      month  year  total_score  \n",
       "sample_type                                     \n",
       "best_reviews_sample       5     5            5  \n",
       "low_score_reviews         4     0            0  \n",
       "recent_best_reviews       5     5            5  \n",
       "recent_worst_reviews      5     5            5  \n",
       "worst_reviews_sample      4     4            5  \n",
       "\n",
       "[5 rows x 22 columns]"
      ]
     },
     "execution_count": 9,
     "metadata": {},
     "output_type": "execute_result"
    }
   ],
   "source": [
    "sample_reviews.groupby('sample_type').count()"
   ]
  },
  {
   "cell_type": "code",
   "execution_count": 10,
   "metadata": {},
   "outputs": [
    {
     "data": {
      "text/html": [
       "<div>\n",
       "<style scoped>\n",
       "    .dataframe tbody tr th:only-of-type {\n",
       "        vertical-align: middle;\n",
       "    }\n",
       "\n",
       "    .dataframe tbody tr th {\n",
       "        vertical-align: top;\n",
       "    }\n",
       "\n",
       "    .dataframe thead th {\n",
       "        text-align: right;\n",
       "    }\n",
       "</style>\n",
       "<table border=\"1\" class=\"dataframe\">\n",
       "  <thead>\n",
       "    <tr style=\"text-align: right;\">\n",
       "      <th></th>\n",
       "      <th>date</th>\n",
       "      <th>rating_score</th>\n",
       "      <th>review</th>\n",
       "      <th>food_score</th>\n",
       "      <th>service_score</th>\n",
       "      <th>atmosphere_score</th>\n",
       "      <th>meal_type</th>\n",
       "    </tr>\n",
       "  </thead>\n",
       "  <tbody>\n",
       "    <tr>\n",
       "      <th>23</th>\n",
       "      <td>NaN</td>\n",
       "      <td>1.0</td>\n",
       "      <td>La comida me resultó bastante mala. Los canelo...</td>\n",
       "      <td>NaN</td>\n",
       "      <td>NaN</td>\n",
       "      <td>NaN</td>\n",
       "      <td>NaN</td>\n",
       "    </tr>\n",
       "  </tbody>\n",
       "</table>\n",
       "</div>"
      ],
      "text/plain": [
       "   date  rating_score                                             review  \\\n",
       "23  NaN           1.0  La comida me resultó bastante mala. Los canelo...   \n",
       "\n",
       "    food_score  service_score  atmosphere_score meal_type  \n",
       "23         NaN            NaN               NaN       NaN  "
      ]
     },
     "execution_count": 10,
     "metadata": {},
     "output_type": "execute_result"
    }
   ],
   "source": [
    "period_reviews = sample_reviews[(sample_reviews['month'] == '2024-08') & (sample_reviews['sample_type'] == 'low_score_reviews')][['date', 'rating_score', 'review', 'food_score', 'service_score', 'atmosphere_score', 'meal_type']]\n",
    "period_reviews"
   ]
  },
  {
   "cell_type": "markdown",
   "metadata": {},
   "source": [
    "### Plots"
   ]
  },
  {
   "cell_type": "code",
   "execution_count": 11,
   "metadata": {},
   "outputs": [],
   "source": [
    "def plotTrend(reviews, label_mapping, app=False, filter_min=None, filter_max=None):\n",
    "    # Convert date column to datetime format and create additional time columns\n",
    "    reviews['date'] = pd.to_datetime(reviews['date'], errors='coerce')\n",
    "    reviews['month'] = reviews['date'].dt.to_period('M')\n",
    "\n",
    "    # Filter data for the last periods based on filter_min and filter_max\n",
    "    limit_date = reviews['date'].max()\n",
    "    if filter_min is None and filter_max is None:\n",
    "        # If both filters are None, select data from the last year\n",
    "        start_date = limit_date - pd.DateOffset(years=1)\n",
    "        selected_reviews = reviews[(reviews['date'] >= start_date) & (reviews['date'] <= limit_date)]\n",
    "    else:\n",
    "        # Apply the filters if provided\n",
    "        selected_reviews = reviews\n",
    "        if filter_min is not None:\n",
    "            selected_reviews = selected_reviews[selected_reviews['date'] >= filter_min]\n",
    "        if filter_max is not None:\n",
    "            selected_reviews = selected_reviews[selected_reviews['date'] <= filter_max]\n",
    "\n",
    "    # Compute averages for the required periods using label_mapping keys\n",
    "    columns_to_average = list(label_mapping.keys())\n",
    "    monthly_avg_scores = selected_reviews.groupby('month')[columns_to_average].mean()\n",
    "    \n",
    "    # Create a figure to plot the trends\n",
    "    fig = make_subplots(rows=1, cols=1)\n",
    "    \n",
    "    # Update the axis labels for each score to be more readable\n",
    "    colors = ['#32CD32', 'rgba(31, 119, 180, 0.8)', 'rgba(107, 174, 214, 0.8)', 'rgba(158, 202, 225, 0.8)'] \n",
    "    for i, column in enumerate(monthly_avg_scores.columns):\n",
    "        label = label_mapping[column]\n",
    "        fig.add_trace(\n",
    "            go.Scatter(x=monthly_avg_scores.index.astype(str), y=monthly_avg_scores[column],\n",
    "                       mode='lines+markers', name=label, \n",
    "                       text=[f\"{label} - {val:.2f}\" for val in monthly_avg_scores[column]], \n",
    "                       hoverinfo=\"text\", line=dict(color=colors[i], width=3 if i == 0 else 2)),\n",
    "            row=1, col=1)\n",
    "\n",
    "\n",
    "    # Analyze low scores and find high score\n",
    "    _, low_score_periods = ml_processing.analyzeLowScores(reviews, 'rating_score', num_periods=3)\n",
    "    high_score_period = monthly_avg_scores['rating_score'].idxmax()\n",
    "    high_score_value = monthly_avg_scores['rating_score'].max()\n",
    "    \n",
    "    # Add annotations for low scores\n",
    "    for i in range(len(low_score_periods)):\n",
    "        if i > 0 and low_score_periods[i] - low_score_periods[i - 1] == 1:\n",
    "            # If two periods are contiguous, combine them in one annotation\n",
    "            fig.add_annotation(x=str(low_score_periods[i]), y=monthly_avg_scores.loc[low_score_periods[i], 'rating_score'] + 0.5,\n",
    "                               text=f\"Drop in {low_score_periods[i - 1].strftime('%B')} & {low_score_periods[i].strftime('%B')}\",\n",
    "                               showarrow=True, arrowhead=2, ax=0, ay=-40, row=1, col=1)\n",
    "        elif i == 0 or low_score_periods[i] - low_score_periods[i - 1] != 1:\n",
    "            fig.add_annotation(x=str(low_score_periods[i]), y=monthly_avg_scores.loc[low_score_periods[i], 'rating_score'] + 0.5,\n",
    "                               text=f\"Drop in {low_score_periods[i].strftime('%B')}\",\n",
    "                               showarrow=True, arrowhead=2, ax=0, ay=-40, row=1, col=1)\n",
    "    \n",
    "    # Add annotation for high score\n",
    "    fig.add_annotation(x=str(high_score_period), y=high_score_value - 0.3,\n",
    "                       text=f\"High in {high_score_period.strftime('%B')}\",\n",
    "                       showarrow=True, arrowhead=2, ax=0, ay=40, row=1, col=1)\n",
    "\n",
    "    fig.update_xaxes(showgrid=False)\n",
    "    fig.update_yaxes(showgrid=False, title_text='Average Score')\n",
    "    fig.update_layout(showlegend=False, \n",
    "                    #title=\"Rating Trends\",\n",
    "                    #title_font=dict(size=28),\n",
    "                    margin=dict(l=50, r=50, t=100, b=50),\n",
    "                    paper_bgcolor=\"white\",\n",
    "                    height=400, width=1200)\n",
    "    \n",
    "    # Show or return the figure depending on the context\n",
    "    if app:\n",
    "        return fig\n",
    "    else:\n",
    "        fig.show()"
   ]
  },
  {
   "cell_type": "code",
   "execution_count": 12,
   "metadata": {},
   "outputs": [
    {
     "data": {
      "application/vnd.plotly.v1+json": {
       "config": {
        "plotlyServerURL": "https://plot.ly"
       },
       "data": [
        {
         "hoverinfo": "text",
         "line": {
          "color": "#32CD32",
          "width": 3
         },
         "mode": "lines+markers",
         "name": "Rating",
         "text": [
          "Rating - 4.50",
          "Rating - 4.55",
          "Rating - 4.75",
          "Rating - 4.55",
          "Rating - 4.12",
          "Rating - 4.08",
          "Rating - 4.43",
          "Rating - 4.56",
          "Rating - 4.89",
          "Rating - 4.38",
          "Rating - 4.00",
          "Rating - 4.37"
         ],
         "type": "scatter",
         "x": [
          "2023-10",
          "2023-11",
          "2023-12",
          "2024-01",
          "2024-02",
          "2024-03",
          "2024-04",
          "2024-05",
          "2024-06",
          "2024-07",
          "2024-08",
          "2024-09"
         ],
         "xaxis": "x",
         "y": [
          4.5,
          4.545454545454546,
          4.75,
          4.545454545454546,
          4.125,
          4.076923076923077,
          4.428571428571429,
          4.5625,
          4.888888888888889,
          4.375,
          4,
          4.368421052631579
         ],
         "yaxis": "y"
        },
        {
         "hoverinfo": "text",
         "line": {
          "color": "rgba(31, 119, 180, 0.8)",
          "width": 2
         },
         "mode": "lines+markers",
         "name": "Food",
         "text": [
          "Food - 5.00",
          "Food - 4.11",
          "Food - 4.75",
          "Food - 4.67",
          "Food - 4.25",
          "Food - 4.09",
          "Food - 4.80",
          "Food - 4.48",
          "Food - 4.88",
          "Food - 4.23",
          "Food - 4.07",
          "Food - 4.50"
         ],
         "type": "scatter",
         "x": [
          "2023-10",
          "2023-11",
          "2023-12",
          "2024-01",
          "2024-02",
          "2024-03",
          "2024-04",
          "2024-05",
          "2024-06",
          "2024-07",
          "2024-08",
          "2024-09"
         ],
         "xaxis": "x",
         "y": [
          5,
          4.111111111111111,
          4.75,
          4.666666666666667,
          4.25,
          4.090909090909091,
          4.8,
          4.481481481481482,
          4.875,
          4.230769230769231,
          4.066666666666666,
          4.5
         ],
         "yaxis": "y"
        },
        {
         "hoverinfo": "text",
         "line": {
          "color": "rgba(107, 174, 214, 0.8)",
          "width": 2
         },
         "mode": "lines+markers",
         "name": "Service",
         "text": [
          "Service - 5.00",
          "Service - 4.60",
          "Service - 4.50",
          "Service - 4.83",
          "Service - 4.38",
          "Service - 4.36",
          "Service - 4.60",
          "Service - 4.71",
          "Service - 4.88",
          "Service - 4.46",
          "Service - 4.38",
          "Service - 4.53"
         ],
         "type": "scatter",
         "x": [
          "2023-10",
          "2023-11",
          "2023-12",
          "2024-01",
          "2024-02",
          "2024-03",
          "2024-04",
          "2024-05",
          "2024-06",
          "2024-07",
          "2024-08",
          "2024-09"
         ],
         "xaxis": "x",
         "y": [
          5,
          4.6,
          4.5,
          4.833333333333333,
          4.375,
          4.363636363636363,
          4.6,
          4.714285714285714,
          4.875,
          4.461538461538462,
          4.375,
          4.529411764705882
         ],
         "yaxis": "y"
        },
        {
         "hoverinfo": "text",
         "line": {
          "color": "rgba(158, 202, 225, 0.8)",
          "width": 2
         },
         "mode": "lines+markers",
         "name": "Ambient",
         "text": [
          "Ambient - 4.00",
          "Ambient - 4.10",
          "Ambient - 4.62",
          "Ambient - 4.67",
          "Ambient - 4.25",
          "Ambient - 4.09",
          "Ambient - 5.00",
          "Ambient - 4.59",
          "Ambient - 5.00",
          "Ambient - 4.46",
          "Ambient - 4.19",
          "Ambient - 4.71"
         ],
         "type": "scatter",
         "x": [
          "2023-10",
          "2023-11",
          "2023-12",
          "2024-01",
          "2024-02",
          "2024-03",
          "2024-04",
          "2024-05",
          "2024-06",
          "2024-07",
          "2024-08",
          "2024-09"
         ],
         "xaxis": "x",
         "y": [
          4,
          4.1,
          4.625,
          4.666666666666667,
          4.25,
          4.090909090909091,
          5,
          4.592592592592593,
          5,
          4.461538461538462,
          4.1875,
          4.705882352941177
         ],
         "yaxis": "y"
        }
       ],
       "layout": {
        "annotations": [
         {
          "arrowhead": 2,
          "ax": 0,
          "ay": -40,
          "showarrow": true,
          "text": "Drop in February",
          "x": "2024-02",
          "xref": "x",
          "y": 4.625,
          "yref": "y"
         },
         {
          "arrowhead": 2,
          "ax": 0,
          "ay": -40,
          "showarrow": true,
          "text": "Drop in March",
          "x": "2024-03",
          "xref": "x",
          "y": 4.576923076923077,
          "yref": "y"
         },
         {
          "arrowhead": 2,
          "ax": 0,
          "ay": -40,
          "showarrow": true,
          "text": "Drop in August",
          "x": "2024-08",
          "xref": "x",
          "y": 4.5,
          "yref": "y"
         },
         {
          "arrowhead": 2,
          "ax": 0,
          "ay": 40,
          "showarrow": true,
          "text": "High in June",
          "x": "2024-06",
          "xref": "x",
          "y": 4.5888888888888895,
          "yref": "y"
         }
        ],
        "height": 400,
        "margin": {
         "b": 50,
         "l": 50,
         "r": 50,
         "t": 100
        },
        "paper_bgcolor": "white",
        "showlegend": false,
        "template": {
         "data": {
          "candlestick": [
           {
            "decreasing": {
             "line": {
              "color": "#000033"
             }
            },
            "increasing": {
             "line": {
              "color": "#000032"
             }
            },
            "type": "candlestick"
           }
          ],
          "contour": [
           {
            "colorscale": [
             [
              0,
              "#000011"
             ],
             [
              0.1111111111111111,
              "#000012"
             ],
             [
              0.2222222222222222,
              "#000013"
             ],
             [
              0.3333333333333333,
              "#000014"
             ],
             [
              0.4444444444444444,
              "#000015"
             ],
             [
              0.5555555555555556,
              "#000016"
             ],
             [
              0.6666666666666666,
              "#000017"
             ],
             [
              0.7777777777777778,
              "#000018"
             ],
             [
              0.8888888888888888,
              "#000019"
             ],
             [
              1,
              "#000020"
             ]
            ],
            "type": "contour"
           }
          ],
          "contourcarpet": [
           {
            "colorscale": [
             [
              0,
              "#000011"
             ],
             [
              0.1111111111111111,
              "#000012"
             ],
             [
              0.2222222222222222,
              "#000013"
             ],
             [
              0.3333333333333333,
              "#000014"
             ],
             [
              0.4444444444444444,
              "#000015"
             ],
             [
              0.5555555555555556,
              "#000016"
             ],
             [
              0.6666666666666666,
              "#000017"
             ],
             [
              0.7777777777777778,
              "#000018"
             ],
             [
              0.8888888888888888,
              "#000019"
             ],
             [
              1,
              "#000020"
             ]
            ],
            "type": "contourcarpet"
           }
          ],
          "heatmap": [
           {
            "colorscale": [
             [
              0,
              "#000011"
             ],
             [
              0.1111111111111111,
              "#000012"
             ],
             [
              0.2222222222222222,
              "#000013"
             ],
             [
              0.3333333333333333,
              "#000014"
             ],
             [
              0.4444444444444444,
              "#000015"
             ],
             [
              0.5555555555555556,
              "#000016"
             ],
             [
              0.6666666666666666,
              "#000017"
             ],
             [
              0.7777777777777778,
              "#000018"
             ],
             [
              0.8888888888888888,
              "#000019"
             ],
             [
              1,
              "#000020"
             ]
            ],
            "type": "heatmap"
           }
          ],
          "histogram2d": [
           {
            "colorscale": [
             [
              0,
              "#000011"
             ],
             [
              0.1111111111111111,
              "#000012"
             ],
             [
              0.2222222222222222,
              "#000013"
             ],
             [
              0.3333333333333333,
              "#000014"
             ],
             [
              0.4444444444444444,
              "#000015"
             ],
             [
              0.5555555555555556,
              "#000016"
             ],
             [
              0.6666666666666666,
              "#000017"
             ],
             [
              0.7777777777777778,
              "#000018"
             ],
             [
              0.8888888888888888,
              "#000019"
             ],
             [
              1,
              "#000020"
             ]
            ],
            "type": "histogram2d"
           }
          ],
          "icicle": [
           {
            "textfont": {
             "color": "white"
            },
            "type": "icicle"
           }
          ],
          "sankey": [
           {
            "textfont": {
             "color": "#000036"
            },
            "type": "sankey"
           }
          ],
          "scatter": [
           {
            "marker": {
             "line": {
              "width": 0
             }
            },
            "type": "scatter"
           }
          ],
          "table": [
           {
            "cells": {
             "fill": {
              "color": "#000038"
             },
             "font": {
              "color": "#000037"
             },
             "line": {
              "color": "#000039"
             }
            },
            "header": {
             "fill": {
              "color": "#000040"
             },
             "font": {
              "color": "#000036"
             },
             "line": {
              "color": "#000039"
             }
            },
            "type": "table"
           }
          ],
          "waterfall": [
           {
            "connector": {
             "line": {
              "color": "#000036",
              "width": 2
             }
            },
            "decreasing": {
             "marker": {
              "color": "#000033"
             }
            },
            "increasing": {
             "marker": {
              "color": "#000032"
             }
            },
            "totals": {
             "marker": {
              "color": "#000034"
             }
            },
            "type": "waterfall"
           }
          ]
         },
         "layout": {
          "coloraxis": {
           "colorscale": [
            [
             0,
             "#000011"
            ],
            [
             0.1111111111111111,
             "#000012"
            ],
            [
             0.2222222222222222,
             "#000013"
            ],
            [
             0.3333333333333333,
             "#000014"
            ],
            [
             0.4444444444444444,
             "#000015"
            ],
            [
             0.5555555555555556,
             "#000016"
            ],
            [
             0.6666666666666666,
             "#000017"
            ],
            [
             0.7777777777777778,
             "#000018"
            ],
            [
             0.8888888888888888,
             "#000019"
            ],
            [
             1,
             "#000020"
            ]
           ]
          },
          "colorscale": {
           "diverging": [
            [
             0,
             "#000021"
            ],
            [
             0.1,
             "#000022"
            ],
            [
             0.2,
             "#000023"
            ],
            [
             0.3,
             "#000024"
            ],
            [
             0.4,
             "#000025"
            ],
            [
             0.5,
             "#000026"
            ],
            [
             0.6,
             "#000027"
            ],
            [
             0.7,
             "#000028"
            ],
            [
             0.8,
             "#000029"
            ],
            [
             0.9,
             "#000030"
            ],
            [
             1,
             "#000031"
            ]
           ],
           "sequential": [
            [
             0,
             "#000011"
            ],
            [
             0.1111111111111111,
             "#000012"
            ],
            [
             0.2222222222222222,
             "#000013"
            ],
            [
             0.3333333333333333,
             "#000014"
            ],
            [
             0.4444444444444444,
             "#000015"
            ],
            [
             0.5555555555555556,
             "#000016"
            ],
            [
             0.6666666666666666,
             "#000017"
            ],
            [
             0.7777777777777778,
             "#000018"
            ],
            [
             0.8888888888888888,
             "#000019"
            ],
            [
             1,
             "#000020"
            ]
           ],
           "sequentialminus": [
            [
             0,
             "#000011"
            ],
            [
             0.1111111111111111,
             "#000012"
            ],
            [
             0.2222222222222222,
             "#000013"
            ],
            [
             0.3333333333333333,
             "#000014"
            ],
            [
             0.4444444444444444,
             "#000015"
            ],
            [
             0.5555555555555556,
             "#000016"
            ],
            [
             0.6666666666666666,
             "#000017"
            ],
            [
             0.7777777777777778,
             "#000018"
            ],
            [
             0.8888888888888888,
             "#000019"
            ],
            [
             1,
             "#000020"
            ]
           ]
          },
          "colorway": [
           "#000001",
           "#000002",
           "#000003",
           "#000004",
           "#000005",
           "#000006",
           "#000007",
           "#000008",
           "#000009",
           "#000010"
          ]
         }
        },
        "width": 1200,
        "xaxis": {
         "anchor": "y",
         "domain": [
          0,
          1
         ],
         "showgrid": false
        },
        "yaxis": {
         "anchor": "x",
         "domain": [
          0,
          1
         ],
         "showgrid": false,
         "title": {
          "text": "Average Score"
         }
        }
       }
      }
     },
     "metadata": {},
     "output_type": "display_data"
    }
   ],
   "source": [
    "label_mapping = {\n",
    "    'rating_score': 'Rating',\n",
    "    'food_score': 'Food',\n",
    "    'service_score': 'Service',\n",
    "    'atmosphere_score': 'Ambient'\n",
    "}\n",
    "\n",
    "plotTrend(reviews, label_mapping, app=False)\n",
    "#plotTrend(reviews, label_mapping, app=False, filter_min=\"2024-01-01\", filter_max=\"2024-05-01\")"
   ]
  },
  {
   "cell_type": "code",
   "execution_count": 13,
   "metadata": {},
   "outputs": [],
   "source": [
    "_, low_score_periods = ml_processing.analyzeLowScores(reviews, 'rating_score', num_periods=3)"
   ]
  },
  {
   "cell_type": "code",
   "execution_count": 14,
   "metadata": {},
   "outputs": [
    {
     "data": {
      "text/plain": [
       "{'2023-11': {'problems': ['Customers reported that the café environment was not inviting.',\n",
       "   'There seems to be a lack of urgency in addressing customer concerns during visits.'],\n",
       "  'improve': ['Enhance the ambiance of the café to make it more welcoming.',\n",
       "   'Implement a training program focused on timely customer service response.']},\n",
       " '2024-02': {'problems': ['Service was described as poor, leading to negative customer experiences.',\n",
       "   'Customers felt that their orders were not managed properly.'],\n",
       "  'improve': ['Conduct regular service quality assessments to identify areas needing improvement.',\n",
       "   'Increase staff training on order management and customer interaction.']},\n",
       " '2024-03': {'problems': ['High noise levels were reported, making the atmosphere uncomfortable.',\n",
       "   'Customers expressed dissatisfaction with the consistency of their experiences.'],\n",
       "  'improve': ['Consider soundproofing measures or altering the layout to reduce noise.',\n",
       "   'Standardize service procedures to ensure a consistent experience for all customers.']},\n",
       " '2024-08': {'problems': ['Seating arrangements were found to be uncomfortable by patrons.',\n",
       "   'There were mixed feelings about the overall dining experience.'],\n",
       "  'improve': ['Reevaluate the dining layout and invest in comfortable seating options.',\n",
       "   'Solicit regular feedback from customers to continuously improve the dining experience.']}}"
      ]
     },
     "execution_count": 14,
     "metadata": {},
     "output_type": "execute_result"
    }
   ],
   "source": [
    "worst_periods_insights"
   ]
  },
  {
   "cell_type": "code",
   "execution_count": 15,
   "metadata": {},
   "outputs": [
    {
     "data": {
      "text/plain": [
       "{'2024-02': {'problems': ['Service was described as poor, leading to negative customer experiences.',\n",
       "   'Customers felt that their orders were not managed properly.'],\n",
       "  'improve': ['Conduct regular service quality assessments to identify areas needing improvement.',\n",
       "   'Increase staff training on order management and customer interaction.']},\n",
       " '2024-03': {'problems': ['High noise levels were reported, making the atmosphere uncomfortable.',\n",
       "   'Customers expressed dissatisfaction with the consistency of their experiences.'],\n",
       "  'improve': ['Consider soundproofing measures or altering the layout to reduce noise.',\n",
       "   'Standardize service procedures to ensure a consistent experience for all customers.']},\n",
       " '2024-08': {'problems': ['Seating arrangements were found to be uncomfortable by patrons.',\n",
       "   'There were mixed feelings about the overall dining experience.'],\n",
       "  'improve': ['Reevaluate the dining layout and invest in comfortable seating options.',\n",
       "   'Solicit regular feedback from customers to continuously improve the dining experience.']}}"
      ]
     },
     "execution_count": 15,
     "metadata": {},
     "output_type": "execute_result"
    }
   ],
   "source": [
    "filter_min = pd.to_datetime('2024/01/29')\n",
    "filter_max = pd.to_datetime('2024/09/29')\n",
    "worst_periods_insights_filtered = {k: v for k, v in worst_periods_insights.items() if filter_min <= pd.to_datetime(k) <= filter_max} if filter_min is not None and filter_max is not None else worst_periods_insights\n",
    "worst_periods_insights_filtered"
   ]
  },
  {
   "cell_type": "code",
   "execution_count": 16,
   "metadata": {},
   "outputs": [
    {
     "name": "stdout",
     "output_type": "stream",
     "text": [
      "2024-01\n",
      "2024-09\n",
      "{'2024-02': {'problems': ['Service was described as poor, leading to negative customer experiences.', 'Customers felt that their orders were not managed properly.'], 'improve': ['Conduct regular service quality assessments to identify areas needing improvement.', 'Increase staff training on order management and customer interaction.']}, '2024-03': {'problems': ['High noise levels were reported, making the atmosphere uncomfortable.', 'Customers expressed dissatisfaction with the consistency of their experiences.'], 'improve': ['Consider soundproofing measures or altering the layout to reduce noise.', 'Standardize service procedures to ensure a consistent experience for all customers.']}, '2024-08': {'problems': ['Seating arrangements were found to be uncomfortable by patrons.', 'There were mixed feelings about the overall dining experience.'], 'improve': ['Reevaluate the dining layout and invest in comfortable seating options.', 'Solicit regular feedback from customers to continuously improve the dining experience.']}}\n"
     ]
    }
   ],
   "source": [
    "from datetime import datetime\n",
    "dates = list(worst_periods_insights.keys())\n",
    "dates = [datetime.strptime(date, '%Y-%m') for date in dates]\n",
    "limit_date = max(dates)\n",
    "\n",
    "start_date = filter_min if filter_min is not None else (limit_date - pd.DateOffset(years=1))\n",
    "end_date = filter_max if filter_max is not None else limit_date\n",
    "\n",
    "# Asegurarse de que start_date y end_date sean objetos datetime\n",
    "start_date = pd.to_datetime(start_date)\n",
    "end_date = pd.to_datetime(end_date)\n",
    "\n",
    "# Filtrar el diccionario usando los límites de fecha\n",
    "filtered_insights = {date: data for date, data in worst_periods_insights.items()\n",
    "                     if start_date <= datetime.strptime(date, '%Y-%m') <= end_date}\n",
    "\n",
    "print(start_date.strftime('%Y-%m'))\n",
    "print(end_date.strftime('%Y-%m'))\n",
    "print(filtered_insights)\n",
    "\n"
   ]
  },
  {
   "cell_type": "code",
   "execution_count": 17,
   "metadata": {},
   "outputs": [
    {
     "data": {
      "text/html": [
       "<div>\n",
       "<style scoped>\n",
       "    .dataframe tbody tr th:only-of-type {\n",
       "        vertical-align: middle;\n",
       "    }\n",
       "\n",
       "    .dataframe tbody tr th {\n",
       "        vertical-align: top;\n",
       "    }\n",
       "\n",
       "    .dataframe thead th {\n",
       "        text-align: right;\n",
       "    }\n",
       "</style>\n",
       "<table border=\"1\" class=\"dataframe\">\n",
       "  <thead>\n",
       "    <tr style=\"text-align: right;\">\n",
       "      <th></th>\n",
       "      <th>stars</th>\n",
       "      <th>reviews</th>\n",
       "    </tr>\n",
       "  </thead>\n",
       "  <tbody>\n",
       "    <tr>\n",
       "      <th>0</th>\n",
       "      <td>5</td>\n",
       "      <td>2290</td>\n",
       "    </tr>\n",
       "    <tr>\n",
       "      <th>1</th>\n",
       "      <td>4</td>\n",
       "      <td>1308</td>\n",
       "    </tr>\n",
       "    <tr>\n",
       "      <th>2</th>\n",
       "      <td>3</td>\n",
       "      <td>396</td>\n",
       "    </tr>\n",
       "    <tr>\n",
       "      <th>3</th>\n",
       "      <td>2</td>\n",
       "      <td>132</td>\n",
       "    </tr>\n",
       "    <tr>\n",
       "      <th>4</th>\n",
       "      <td>1</td>\n",
       "      <td>128</td>\n",
       "    </tr>\n",
       "  </tbody>\n",
       "</table>\n",
       "</div>"
      ],
      "text/plain": [
       "   stars  reviews\n",
       "0      5     2290\n",
       "1      4     1308\n",
       "2      3      396\n",
       "3      2      132\n",
       "4      1      128"
      ]
     },
     "execution_count": 17,
     "metadata": {},
     "output_type": "execute_result"
    }
   ],
   "source": [
    "resume"
   ]
  }
 ],
 "metadata": {
  "kernelspec": {
   "display_name": "sar",
   "language": "python",
   "name": "python3"
  },
  "language_info": {
   "codemirror_mode": {
    "name": "ipython",
    "version": 3
   },
   "file_extension": ".py",
   "mimetype": "text/x-python",
   "name": "python",
   "nbconvert_exporter": "python",
   "pygments_lexer": "ipython3",
   "version": "3.9.19"
  }
 },
 "nbformat": 4,
 "nbformat_minor": 2
}
